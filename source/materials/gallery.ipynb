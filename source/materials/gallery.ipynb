{
 "cells": [
  {
   "cell_type": "markdown",
   "metadata": {},
   "source": [
    "# Image gallery"
   ]
  },
  {
   "cell_type": "markdown",
   "metadata": {},
   "source": [
    "\n",
    "Here a selection of images and data. We will add more during the 2024 class. \n",
    "\n",
    "## Phage counting\n",
    "\n",
    "<figure>\n",
    "<img src=\"./images/plaque_example.jpg\" style=\"width:30%\">\n",
    "<figcaption align = \"center\"> Plaques show the expansion of phage populations. Plaque counting is the method of choice for measuring phage concentration. Image taken during class. </figcaption>\n",
    "</figure>\n",
    "\n",
    "## Ressource allocation\n",
    "\n",
    "<figure>\n",
    "<img src=\"./images/ressource_allocation.png\" style=\"width:30%\">\n",
    "<figcaption align = \"center\"> Cells need to efficiently allocate their limited ressources, including the activity of ribosomes, to efficiently grow. Mathematical models elucidates the consequences and implementation of fundamental allocation strategies. Image courtesey of <a href=\"https://gchure.github.io\">Griffin Chure</a>, <a href=\"https://doi.org/10.7554/eLife.8487\">Chure et al eLife 12:e84878 (2023)</a>\n",
    " </figcaption>\n",
    "</figure>\n",
    "\n",
    "\n",
    "## Lipoprotein complex\n",
    "\n",
    "<figure>\n",
    "<img src=\"./images/lipo_complex.png\" style=\"width:30%\">\n",
    "<figcaption align = \"center\"> Provide caption.... . Image courtesey of <a href=\"https://www.sharaflab.com\">Naima Sharaf</a>, <a href=\"https://doi.org/10.7554/eLife.69742\">Sharaf et al. eLife 10:e69742 (2021)</a>.\n",
    " </figcaption>\n",
    "</figure>\n",
    "\n",
    "\n"
   ]
  },
  {
   "cell_type": "code",
   "execution_count": null,
   "metadata": {},
   "outputs": [],
   "source": []
  }
 ],
 "metadata": {
  "kernelspec": {
   "display_name": "Python 3 (ipykernel)",
   "language": "python",
   "name": "python3"
  },
  "language_info": {
   "codemirror_mode": {
    "name": "ipython",
    "version": 3
   },
   "file_extension": ".py",
   "mimetype": "text/x-python",
   "name": "python",
   "nbconvert_exporter": "python",
   "pygments_lexer": "ipython3",
   "version": "3.11.0"
  }
 },
 "nbformat": 4,
 "nbformat_minor": 4
}
